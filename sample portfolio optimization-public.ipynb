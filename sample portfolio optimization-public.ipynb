{
 "cells": [
  {
   "cell_type": "code",
   "execution_count": 1,
   "id": "98126a65-384a-4ccd-9d29-2ca2b6f06992",
   "metadata": {},
   "outputs": [],
   "source": [
    "from pyspark.sql import SparkSession\n",
    "import numpy as np\n",
    "import pandas as pd\n",
    "import yfinance as yf\n",
    "import matplotlib.pyplot as plt"
   ]
  },
  {
   "cell_type": "code",
   "execution_count": 2,
   "id": "33da3f7b-d48a-4569-8f61-dd1d11a04b37",
   "metadata": {},
   "outputs": [],
   "source": [
    "# Initialize Spark session\n",
    "spark = SparkSession.builder.appName('PortfolioOptimization').getOrCreate()"
   ]
  },
  {
   "cell_type": "code",
   "execution_count": 3,
   "id": "3e7bd843-1ab5-4dd2-8570-7cfcf2149b24",
   "metadata": {},
   "outputs": [
    {
     "name": "stderr",
     "output_type": "stream",
     "text": [
      "[*********************100%%**********************]  7 of 7 completed\n"
     ]
    }
   ],
   "source": [
    "# Define the stock tickers and the period for historical data\n",
    "#Microsoft, Google, Amazon, Nvidia, Visa, Coca-Cola, Goldman Sachs\n",
    "tickers = ['MSFT', 'GOOG', 'AMZN','NVDA', 'V', 'KO', 'GS']\n",
    "start_date = '2020-01-01'\n",
    "end_date = '2023-01-01'\n",
    "\n",
    "# Fetch stock data\n",
    "def fetch_stock_data(tickers, start_date, end_date):\n",
    "    data = yf.download(tickers, start=start_date, end=end_date)['Adj Close']\n",
    "    returns = data.pct_change().dropna()\n",
    "    return returns\n",
    "\n",
    "# Get the stock returns data\n",
    "returns = fetch_stock_data(tickers, start_date, end_date)\n"
   ]
  },
  {
   "cell_type": "code",
   "execution_count": 4,
   "id": "41fcf554-b042-427d-b3ba-498289facaf5",
   "metadata": {},
   "outputs": [
    {
     "data": {
      "text/plain": [
       "(755, 7)"
      ]
     },
     "execution_count": 4,
     "metadata": {},
     "output_type": "execute_result"
    }
   ],
   "source": [
    "returns.shape"
   ]
  },
  {
   "cell_type": "code",
   "execution_count": 6,
   "id": "062432ff-0860-40d6-8577-80b8f2ac8ad9",
   "metadata": {},
   "outputs": [],
   "source": [
    "mean_returns = returns.mean()\n",
    "cov_matrix = returns.cov()"
   ]
  },
  {
   "cell_type": "code",
   "execution_count": 7,
   "id": "3e96edf5-c2fd-4dcc-ba93-fcfe536aa6e4",
   "metadata": {},
   "outputs": [
    {
     "data": {
      "text/plain": [
       "Ticker\n",
       "AMZN    0.000141\n",
       "GOOG    0.000580\n",
       "GS      0.000875\n",
       "KO      0.000438\n",
       "MSFT    0.000808\n",
       "NVDA    0.001806\n",
       "V       0.000358\n",
       "dtype: float64"
      ]
     },
     "execution_count": 7,
     "metadata": {},
     "output_type": "execute_result"
    }
   ],
   "source": [
    "mean_returns"
   ]
  },
  {
   "cell_type": "code",
   "execution_count": 8,
   "id": "a9c11bab-43db-47f0-936b-231a21243d2c",
   "metadata": {},
   "outputs": [
    {
     "data": {
      "text/html": [
       "<div>\n",
       "<style scoped>\n",
       "    .dataframe tbody tr th:only-of-type {\n",
       "        vertical-align: middle;\n",
       "    }\n",
       "\n",
       "    .dataframe tbody tr th {\n",
       "        vertical-align: top;\n",
       "    }\n",
       "\n",
       "    .dataframe thead th {\n",
       "        text-align: right;\n",
       "    }\n",
       "</style>\n",
       "<table border=\"1\" class=\"dataframe\">\n",
       "  <thead>\n",
       "    <tr style=\"text-align: right;\">\n",
       "      <th>Ticker</th>\n",
       "      <th>AMZN</th>\n",
       "      <th>GOOG</th>\n",
       "      <th>GS</th>\n",
       "      <th>KO</th>\n",
       "      <th>MSFT</th>\n",
       "      <th>NVDA</th>\n",
       "      <th>V</th>\n",
       "    </tr>\n",
       "    <tr>\n",
       "      <th>Ticker</th>\n",
       "      <th></th>\n",
       "      <th></th>\n",
       "      <th></th>\n",
       "      <th></th>\n",
       "      <th></th>\n",
       "      <th></th>\n",
       "      <th></th>\n",
       "    </tr>\n",
       "  </thead>\n",
       "  <tbody>\n",
       "    <tr>\n",
       "      <th>AMZN</th>\n",
       "      <td>0.000606</td>\n",
       "      <td>0.000364</td>\n",
       "      <td>0.000223</td>\n",
       "      <td>0.000109</td>\n",
       "      <td>0.000378</td>\n",
       "      <td>0.000576</td>\n",
       "      <td>0.000232</td>\n",
       "    </tr>\n",
       "    <tr>\n",
       "      <th>GOOG</th>\n",
       "      <td>0.000364</td>\n",
       "      <td>0.000469</td>\n",
       "      <td>0.000281</td>\n",
       "      <td>0.000160</td>\n",
       "      <td>0.000391</td>\n",
       "      <td>0.000540</td>\n",
       "      <td>0.000291</td>\n",
       "    </tr>\n",
       "    <tr>\n",
       "      <th>GS</th>\n",
       "      <td>0.000223</td>\n",
       "      <td>0.000281</td>\n",
       "      <td>0.000561</td>\n",
       "      <td>0.000209</td>\n",
       "      <td>0.000284</td>\n",
       "      <td>0.000402</td>\n",
       "      <td>0.000323</td>\n",
       "    </tr>\n",
       "    <tr>\n",
       "      <th>KO</th>\n",
       "      <td>0.000109</td>\n",
       "      <td>0.000160</td>\n",
       "      <td>0.000209</td>\n",
       "      <td>0.000241</td>\n",
       "      <td>0.000175</td>\n",
       "      <td>0.000185</td>\n",
       "      <td>0.000203</td>\n",
       "    </tr>\n",
       "    <tr>\n",
       "      <th>MSFT</th>\n",
       "      <td>0.000378</td>\n",
       "      <td>0.000391</td>\n",
       "      <td>0.000284</td>\n",
       "      <td>0.000175</td>\n",
       "      <td>0.000479</td>\n",
       "      <td>0.000591</td>\n",
       "      <td>0.000311</td>\n",
       "    </tr>\n",
       "    <tr>\n",
       "      <th>NVDA</th>\n",
       "      <td>0.000576</td>\n",
       "      <td>0.000540</td>\n",
       "      <td>0.000402</td>\n",
       "      <td>0.000185</td>\n",
       "      <td>0.000591</td>\n",
       "      <td>0.001243</td>\n",
       "      <td>0.000426</td>\n",
       "    </tr>\n",
       "    <tr>\n",
       "      <th>V</th>\n",
       "      <td>0.000232</td>\n",
       "      <td>0.000291</td>\n",
       "      <td>0.000323</td>\n",
       "      <td>0.000203</td>\n",
       "      <td>0.000311</td>\n",
       "      <td>0.000426</td>\n",
       "      <td>0.000444</td>\n",
       "    </tr>\n",
       "  </tbody>\n",
       "</table>\n",
       "</div>"
      ],
      "text/plain": [
       "Ticker      AMZN      GOOG        GS        KO      MSFT      NVDA         V\n",
       "Ticker                                                                      \n",
       "AMZN    0.000606  0.000364  0.000223  0.000109  0.000378  0.000576  0.000232\n",
       "GOOG    0.000364  0.000469  0.000281  0.000160  0.000391  0.000540  0.000291\n",
       "GS      0.000223  0.000281  0.000561  0.000209  0.000284  0.000402  0.000323\n",
       "KO      0.000109  0.000160  0.000209  0.000241  0.000175  0.000185  0.000203\n",
       "MSFT    0.000378  0.000391  0.000284  0.000175  0.000479  0.000591  0.000311\n",
       "NVDA    0.000576  0.000540  0.000402  0.000185  0.000591  0.001243  0.000426\n",
       "V       0.000232  0.000291  0.000323  0.000203  0.000311  0.000426  0.000444"
      ]
     },
     "execution_count": 8,
     "metadata": {},
     "output_type": "execute_result"
    }
   ],
   "source": [
    "cov_matrix"
   ]
  },
  {
   "cell_type": "code",
   "execution_count": 9,
   "id": "e6519ac6-1f1c-449f-b3a0-c92c0250ee3b",
   "metadata": {},
   "outputs": [],
   "source": [
    "#let's calc one covariance manually.  should be able to use np.dot.  formula from my man rivtikmath: https://www.youtube.com/watch?v=152tSYtiQbw\n",
    "\n",
    "def cov_calc(a,b):\n",
    "    a_mean, b_mean = a.mean(), b.mean()\n",
    "    return (np.dot(a,b) / len(a)) - (a_mean*b_mean)\n"
   ]
  },
  {
   "cell_type": "code",
   "execution_count": 11,
   "id": "feec8aa2-0539-4b9d-a179-2e5972f7e632",
   "metadata": {},
   "outputs": [
    {
     "data": {
      "text/plain": [
       "0.00010850055643436201"
      ]
     },
     "execution_count": 11,
     "metadata": {},
     "output_type": "execute_result"
    }
   ],
   "source": [
    "cov_calc(returns['KO'],returns['AMZN'])"
   ]
  },
  {
   "cell_type": "code",
   "execution_count": 12,
   "id": "a2285100-cded-4f62-829a-e9790fd8e5ac",
   "metadata": {},
   "outputs": [],
   "source": [
    "# Convert data to Spark DataFrames\n",
    "returns_df = spark.createDataFrame(returns.reset_index())\n",
    "mean_returns_df = spark.createDataFrame(mean_returns.reset_index())\n",
    "cov_matrix_df = spark.createDataFrame(cov_matrix.reset_index())"
   ]
  },
  {
   "cell_type": "code",
   "execution_count": 17,
   "id": "7cb565eb-94de-4e1f-9134-12f3dd9761e2",
   "metadata": {},
   "outputs": [
    {
     "name": "stdout",
     "output_type": "stream",
     "text": [
      "+-------------------+--------------------+--------------------+--------------------+--------------------+--------------------+--------------------+--------------------+\n",
      "|               Date|                AMZN|                GOOG|                  GS|                  KO|                MSFT|                NVDA|                   V|\n",
      "+-------------------+--------------------+--------------------+--------------------+--------------------+--------------------+--------------------+--------------------+\n",
      "|2020-01-03 00:00:00|-0.01213903465592...|-0.00490726744803105|-0.01169346475124...|-0.00545561913041...|-0.01245157038262...|-0.01600591972214982|-0.00795314553109494|\n",
      "|2020-01-06 00:00:00| 0.01488557393050649| 0.02465722511910462| 0.01023403013361901|-3.65601388996217...|0.002584854390410...|0.004193687419886...|-0.00216255630099893|\n",
      "|2020-01-07 00:00:00|0.002091620415639...|-6.23992722897148...|0.006582576505598681|-0.00768260553734...|-0.00911785303986401|0.012106671125905244|-0.00264288802619006|\n",
      "|2020-01-08 00:00:00|-0.00780864026128...|0.007880373826857356|  0.0096395272049008|0.001843480732478...|0.015928163412181506|0.001875459795743...|0.017118356808647928|\n",
      "|2020-01-09 00:00:00|0.004799174786468...|0.011044403768085687|0.020356712613015304|0.018215406528864886|0.012493191177056051|0.010982812676513465|0.006929890829565...|\n",
      "+-------------------+--------------------+--------------------+--------------------+--------------------+--------------------+--------------------+--------------------+\n",
      "only showing top 5 rows\n",
      "\n"
     ]
    }
   ],
   "source": [
    "returns_df.show(5)"
   ]
  },
  {
   "cell_type": "code",
   "execution_count": 22,
   "id": "a5d1b9bb-c895-4eea-8b03-bd4ec3ed2b9a",
   "metadata": {},
   "outputs": [],
   "source": [
    "#let's look at the portfolio simulation logic manually before weaponizing it...\n",
    "test_result = np.zeros((6, 1))"
   ]
  },
  {
   "cell_type": "code",
   "execution_count": 23,
   "id": "7b6d6512-dacb-4efe-8095-be5319a9bdd0",
   "metadata": {},
   "outputs": [
    {
     "data": {
      "text/plain": [
       "(6, 1)"
      ]
     },
     "execution_count": 23,
     "metadata": {},
     "output_type": "execute_result"
    }
   ],
   "source": [
    "test_result.shape"
   ]
  },
  {
   "cell_type": "code",
   "execution_count": 24,
   "id": "d7bf6d94-5cba-4ac1-80ec-1bcffe16e33b",
   "metadata": {},
   "outputs": [],
   "source": [
    "#get one set of random weights to try for port balance\n",
    "test_weights = np.random.random(7)"
   ]
  },
  {
   "cell_type": "code",
   "execution_count": 25,
   "id": "faaaffb9-a492-4d95-b268-50f33d4d64f5",
   "metadata": {},
   "outputs": [
    {
     "data": {
      "text/plain": [
       "array([0.24620049, 0.36356235, 0.11209105, 0.6737543 , 0.88949675,\n",
       "       0.20056441, 0.84056005])"
      ]
     },
     "execution_count": 25,
     "metadata": {},
     "output_type": "execute_result"
    }
   ],
   "source": [
    "test_weights"
   ]
  },
  {
   "cell_type": "code",
   "execution_count": 26,
   "id": "41d4e18b-2e80-445f-bc13-b0a7927a272f",
   "metadata": {},
   "outputs": [],
   "source": [
    "#reset weights as % of total, so like normalizing.  /= divides by whatever and reassigns the new value to weights.  like +=.\n",
    "test_weights /= np.sum(test_weights)"
   ]
  },
  {
   "cell_type": "code",
   "execution_count": 27,
   "id": "cabf97f0-a53b-4ef8-bcda-3ec2eb677a35",
   "metadata": {},
   "outputs": [
    {
     "data": {
      "text/plain": [
       "array([0.07401789, 0.10930165, 0.03369913, 0.20255798, 0.26741894,\n",
       "       0.06029783, 0.25270658])"
      ]
     },
     "execution_count": 27,
     "metadata": {},
     "output_type": "execute_result"
    }
   ],
   "source": [
    "test_weights"
   ]
  },
  {
   "cell_type": "code",
   "execution_count": 28,
   "id": "4c64852f-1f04-4478-b477-245ec4fef678",
   "metadata": {},
   "outputs": [
    {
     "data": {
      "text/plain": [
       "Ticker\n",
       "AMZN    0.000141\n",
       "GOOG    0.000580\n",
       "GS      0.000875\n",
       "KO      0.000438\n",
       "MSFT    0.000808\n",
       "NVDA    0.001806\n",
       "V       0.000358\n",
       "dtype: float64"
      ]
     },
     "execution_count": 28,
     "metadata": {},
     "output_type": "execute_result"
    }
   ],
   "source": [
    "mean_returns"
   ]
  },
  {
   "cell_type": "code",
   "execution_count": 29,
   "id": "6928f965-2777-4f00-a9b2-cef13323e338",
   "metadata": {},
   "outputs": [],
   "source": [
    "#sure, just our average returns * our weights, summed\n",
    "test_portfolio_return = np.dot(test_weights, mean_returns)"
   ]
  },
  {
   "cell_type": "code",
   "execution_count": 30,
   "id": "11690d28-f106-4b1f-bd97-c593f78286f9",
   "metadata": {},
   "outputs": [
    {
     "data": {
      "text/plain": [
       "0.0006075826099618109"
      ]
     },
     "execution_count": 30,
     "metadata": {},
     "output_type": "execute_result"
    }
   ],
   "source": [
    "test_portfolio_return"
   ]
  },
  {
   "cell_type": "code",
   "execution_count": 32,
   "id": "c3a14ee7-7588-470b-aa3c-6e4d46b67bdf",
   "metadata": {},
   "outputs": [
    {
     "data": {
      "text/plain": [
       "(7, 7)"
      ]
     },
     "execution_count": 32,
     "metadata": {},
     "output_type": "execute_result"
    }
   ],
   "source": [
    "cov_matrix.shape"
   ]
  },
  {
   "cell_type": "code",
   "execution_count": 33,
   "id": "6e541ee5-c0ba-44b7-b6ce-cb5647978746",
   "metadata": {},
   "outputs": [
    {
     "data": {
      "text/plain": [
       "(7,)"
      ]
     },
     "execution_count": 33,
     "metadata": {},
     "output_type": "execute_result"
    }
   ],
   "source": [
    "test_weights.shape"
   ]
  },
  {
   "cell_type": "code",
   "execution_count": 34,
   "id": "b51f1736-231b-4ac5-a283-16c8f6bf6c18",
   "metadata": {},
   "outputs": [
    {
     "data": {
      "text/html": [
       "<div>\n",
       "<style scoped>\n",
       "    .dataframe tbody tr th:only-of-type {\n",
       "        vertical-align: middle;\n",
       "    }\n",
       "\n",
       "    .dataframe tbody tr th {\n",
       "        vertical-align: top;\n",
       "    }\n",
       "\n",
       "    .dataframe thead th {\n",
       "        text-align: right;\n",
       "    }\n",
       "</style>\n",
       "<table border=\"1\" class=\"dataframe\">\n",
       "  <thead>\n",
       "    <tr style=\"text-align: right;\">\n",
       "      <th>Ticker</th>\n",
       "      <th>AMZN</th>\n",
       "      <th>GOOG</th>\n",
       "      <th>GS</th>\n",
       "      <th>KO</th>\n",
       "      <th>MSFT</th>\n",
       "      <th>NVDA</th>\n",
       "      <th>V</th>\n",
       "    </tr>\n",
       "    <tr>\n",
       "      <th>Ticker</th>\n",
       "      <th></th>\n",
       "      <th></th>\n",
       "      <th></th>\n",
       "      <th></th>\n",
       "      <th></th>\n",
       "      <th></th>\n",
       "      <th></th>\n",
       "    </tr>\n",
       "  </thead>\n",
       "  <tbody>\n",
       "    <tr>\n",
       "      <th>AMZN</th>\n",
       "      <td>0.000606</td>\n",
       "      <td>0.000364</td>\n",
       "      <td>0.000223</td>\n",
       "      <td>0.000109</td>\n",
       "      <td>0.000378</td>\n",
       "      <td>0.000576</td>\n",
       "      <td>0.000232</td>\n",
       "    </tr>\n",
       "    <tr>\n",
       "      <th>GOOG</th>\n",
       "      <td>0.000364</td>\n",
       "      <td>0.000469</td>\n",
       "      <td>0.000281</td>\n",
       "      <td>0.000160</td>\n",
       "      <td>0.000391</td>\n",
       "      <td>0.000540</td>\n",
       "      <td>0.000291</td>\n",
       "    </tr>\n",
       "    <tr>\n",
       "      <th>GS</th>\n",
       "      <td>0.000223</td>\n",
       "      <td>0.000281</td>\n",
       "      <td>0.000561</td>\n",
       "      <td>0.000209</td>\n",
       "      <td>0.000284</td>\n",
       "      <td>0.000402</td>\n",
       "      <td>0.000323</td>\n",
       "    </tr>\n",
       "    <tr>\n",
       "      <th>KO</th>\n",
       "      <td>0.000109</td>\n",
       "      <td>0.000160</td>\n",
       "      <td>0.000209</td>\n",
       "      <td>0.000241</td>\n",
       "      <td>0.000175</td>\n",
       "      <td>0.000185</td>\n",
       "      <td>0.000203</td>\n",
       "    </tr>\n",
       "    <tr>\n",
       "      <th>MSFT</th>\n",
       "      <td>0.000378</td>\n",
       "      <td>0.000391</td>\n",
       "      <td>0.000284</td>\n",
       "      <td>0.000175</td>\n",
       "      <td>0.000479</td>\n",
       "      <td>0.000591</td>\n",
       "      <td>0.000311</td>\n",
       "    </tr>\n",
       "    <tr>\n",
       "      <th>NVDA</th>\n",
       "      <td>0.000576</td>\n",
       "      <td>0.000540</td>\n",
       "      <td>0.000402</td>\n",
       "      <td>0.000185</td>\n",
       "      <td>0.000591</td>\n",
       "      <td>0.001243</td>\n",
       "      <td>0.000426</td>\n",
       "    </tr>\n",
       "    <tr>\n",
       "      <th>V</th>\n",
       "      <td>0.000232</td>\n",
       "      <td>0.000291</td>\n",
       "      <td>0.000323</td>\n",
       "      <td>0.000203</td>\n",
       "      <td>0.000311</td>\n",
       "      <td>0.000426</td>\n",
       "      <td>0.000444</td>\n",
       "    </tr>\n",
       "  </tbody>\n",
       "</table>\n",
       "</div>"
      ],
      "text/plain": [
       "Ticker      AMZN      GOOG        GS        KO      MSFT      NVDA         V\n",
       "Ticker                                                                      \n",
       "AMZN    0.000606  0.000364  0.000223  0.000109  0.000378  0.000576  0.000232\n",
       "GOOG    0.000364  0.000469  0.000281  0.000160  0.000391  0.000540  0.000291\n",
       "GS      0.000223  0.000281  0.000561  0.000209  0.000284  0.000402  0.000323\n",
       "KO      0.000109  0.000160  0.000209  0.000241  0.000175  0.000185  0.000203\n",
       "MSFT    0.000378  0.000391  0.000284  0.000175  0.000479  0.000591  0.000311\n",
       "NVDA    0.000576  0.000540  0.000402  0.000185  0.000591  0.001243  0.000426\n",
       "V       0.000232  0.000291  0.000323  0.000203  0.000311  0.000426  0.000444"
      ]
     },
     "execution_count": 34,
     "metadata": {},
     "output_type": "execute_result"
    }
   ],
   "source": [
    "cov_matrix"
   ]
  },
  {
   "cell_type": "code",
   "execution_count": 35,
   "id": "e112a248-40be-4f1e-bb8f-7aa57ed290c3",
   "metadata": {},
   "outputs": [
    {
     "data": {
      "text/plain": [
       "array([0.07401789, 0.10930165, 0.03369913, 0.20255798, 0.26741894,\n",
       "       0.06029783, 0.25270658])"
      ]
     },
     "execution_count": 35,
     "metadata": {},
     "output_type": "execute_result"
    }
   ],
   "source": [
    "test_weights"
   ]
  },
  {
   "cell_type": "code",
   "execution_count": 36,
   "id": "210ac617-9a83-4a01-8325-75a8f9783fcb",
   "metadata": {},
   "outputs": [
    {
     "data": {
      "text/plain": [
       "array([0.00030864, 0.00033067, 0.00029031, 0.0001905 , 0.00035821,\n",
       "       0.00049337, 0.00032227])"
      ]
     },
     "execution_count": 36,
     "metadata": {},
     "output_type": "execute_result"
    }
   ],
   "source": [
    "np.dot(cov_matrix, test_weights)"
   ]
  },
  {
   "cell_type": "code",
   "execution_count": 37,
   "id": "10c971c3-f45c-45b4-815e-a2d72499e1d8",
   "metadata": {},
   "outputs": [],
   "source": [
    "test_portfolio_stddev = np.sqrt(np.dot(test_weights, np.dot(cov_matrix, test_weights)))"
   ]
  },
  {
   "cell_type": "code",
   "execution_count": 38,
   "id": "4138f4af-dc75-46df-ad69-d1b46545bfae",
   "metadata": {},
   "outputs": [
    {
     "data": {
      "text/plain": [
       "0.017729640469261187"
      ]
     },
     "execution_count": 38,
     "metadata": {},
     "output_type": "execute_result"
    }
   ],
   "source": [
    "test_portfolio_stddev"
   ]
  },
  {
   "cell_type": "code",
   "execution_count": null,
   "id": "de635fd1-a3a2-4272-bfbe-251f667190f4",
   "metadata": {},
   "outputs": [],
   "source": []
  },
  {
   "cell_type": "markdown",
   "id": "19b4c8f9-68e1-4082-8519-156054f36ae7",
   "metadata": {},
   "source": [
    "Recall that port variance is sum of weighted variances of each stock, plus the covariance of each stock pair. covar can be negative (stocks move in opposite directions, which would decrease vol), or positive (move in the same direction, adding to risk)."
   ]
  },
  {
   "cell_type": "markdown",
   "id": "88cdb647-4183-4243-a79d-30653e9c2c5e",
   "metadata": {},
   "source": [
    "![Covariance](covariance_formula.png)"
   ]
  },
  {
   "cell_type": "code",
   "execution_count": null,
   "id": "2b5fce06-8e18-404c-bcbc-35557ef68567",
   "metadata": {},
   "outputs": [],
   "source": []
  },
  {
   "cell_type": "code",
   "execution_count": 39,
   "id": "77f9b265-973a-44ae-9fd0-01e0f2006913",
   "metadata": {},
   "outputs": [],
   "source": [
    "# Define number of portfolios to simulate\n",
    "num_portfolios = 10000"
   ]
  },
  {
   "cell_type": "code",
   "execution_count": 81,
   "id": "c333de36-bd95-4fa9-9820-39040eb51547",
   "metadata": {},
   "outputs": [],
   "source": [
    "def simulate_portfolios(num_portfolios, mean_returns, cov_matrix):\n",
    "    results = np.zeros((3, num_portfolios))\n",
    "    for i in range(num_portfolios):\n",
    "        weights = np.random.random(len(tickers))\n",
    "        weights /= np.sum(weights)\n",
    "        portfolio_return = np.dot(weights, mean_returns)\n",
    "        portfolio_stddev = np.sqrt(np.dot(weights.T, np.dot(cov_matrix, weights)))\n",
    "        results[0,i] = portfolio_return\n",
    "        results[1,i] = portfolio_stddev\n",
    "        results[2,i] = results[0,i] / results[1,i]  # Sharpe Ratio\n",
    "    return results"
   ]
  },
  {
   "cell_type": "code",
   "execution_count": 82,
   "id": "a3df9bd3-fc0e-4bfe-b16f-5ede08993956",
   "metadata": {},
   "outputs": [],
   "source": [
    "results = simulate_portfolios(num_portfolios, mean_returns.values, cov_matrix.values)"
   ]
  },
  {
   "cell_type": "code",
   "execution_count": 95,
   "id": "9f5f1d44-2155-4238-a9b9-b16e079254f1",
   "metadata": {},
   "outputs": [
    {
     "data": {
      "text/plain": [
       "array([0.00067075, 0.02047352, 0.03276176])"
      ]
     },
     "execution_count": 95,
     "metadata": {},
     "output_type": "execute_result"
    }
   ],
   "source": [
    "results[:,0]"
   ]
  },
  {
   "cell_type": "code",
   "execution_count": 84,
   "id": "dbbe4d63-f400-4faa-bc14-0f0b84da0ac5",
   "metadata": {},
   "outputs": [
    {
     "name": "stdout",
     "output_type": "stream",
     "text": [
      "Maximum Sharpe Ratio Portfolio Return: 0.0009722728031226328\n",
      "Maximum Sharpe Ratio Portfolio Risk: 0.0223000940724628\n"
     ]
    }
   ],
   "source": [
    "# Find the portfolio with the maximum Sharpe ratio\n",
    "max_sharpe_idx = np.argmax(results[2])\n",
    "max_sharpe_return = results[0, max_sharpe_idx]\n",
    "max_sharpe_stddev = results[1, max_sharpe_idx]\n",
    "\n",
    "print(\"Maximum Sharpe Ratio Portfolio Return:\", max_sharpe_return)\n",
    "print(\"Maximum Sharpe Ratio Portfolio Risk:\", max_sharpe_stddev)"
   ]
  },
  {
   "cell_type": "code",
   "execution_count": 86,
   "id": "7afd87d8-0f89-4f7d-8546-b1a722a9b8db",
   "metadata": {},
   "outputs": [
    {
     "data": {
      "image/png": "[encoded data removed]",
      "text/plain": [
       "<Figure size 1000x600 with 2 Axes>"
      ]
     },
     "metadata": {},
     "output_type": "display_data"
    }
   ],
   "source": [
    "plt.figure(figsize=(10, 6))\n",
    "plt.scatter(results[1, :], results[0, :], c=results[2, :], cmap='YlGnBu', marker='o')\n",
    "plt.title('Simulated Portfolio Optimization')\n",
    "plt.xlabel('Portfolio Risk (Standard Deviation)')\n",
    "plt.ylabel('Portfolio Return')\n",
    "plt.colorbar(label='Sharpe Ratio')\n",
    "plt.show()"
   ]
  },
  {
   "cell_type": "code",
   "execution_count": null,
   "id": "47a8a3d6-d2c1-42f4-a715-8749c2bd4623",
   "metadata": {},
   "outputs": [],
   "source": []
  },
  {
   "cell_type": "code",
   "execution_count": null,
   "id": "71075ace-e823-42ec-8323-3f48039117e4",
   "metadata": {},
   "outputs": [],
   "source": []
  }
 ],
 "metadata": {
  "kernelspec": {
   "display_name": "Python 3 (ipykernel)",
   "language": "python",
   "name": "python3"
  },
  "language_info": {
   "codemirror_mode": {
    "name": "ipython",
    "version": 3
   },
   "file_extension": ".py",
   "mimetype": "text/x-python",
   "name": "python",
   "nbconvert_exporter": "python",
   "pygments_lexer": "ipython3",
   "version": "3.11.9"
  }
 },
 "nbformat": 4,
 "nbformat_minor": 5
}
